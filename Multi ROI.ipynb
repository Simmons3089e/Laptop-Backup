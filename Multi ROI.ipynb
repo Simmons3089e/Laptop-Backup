{
 "cells": [
  {
   "cell_type": "code",
   "execution_count": 2,
   "metadata": {},
   "outputs": [
    {
     "ename": "NameError",
     "evalue": "name 'img1' is not defined",
     "output_type": "error",
     "traceback": [
      "\u001b[1;31m---------------------------------------------------------------------------\u001b[0m",
      "\u001b[1;31mNameError\u001b[0m                                 Traceback (most recent call last)",
      "\u001b[1;32m<ipython-input-2-2fd9124f9720>\u001b[0m in \u001b[0;36m<module>\u001b[1;34m\u001b[0m\n\u001b[0;32m     20\u001b[0m \u001b[1;33m\u001b[0m\u001b[0m\n\u001b[0;32m     21\u001b[0m \u001b[1;31m# Make a grid of ROIs\u001b[0m\u001b[1;33m\u001b[0m\u001b[1;33m\u001b[0m\u001b[1;33m\u001b[0m\u001b[0m\n\u001b[1;32m---> 22\u001b[1;33m rois1, roi_hierarchy1 = pcv.roi.multi(img=img1, coord=(25,120), radius=20, \n\u001b[0m\u001b[0;32m     23\u001b[0m                                       spacing=(70, 70), nrows=3, ncols=6)\n\u001b[0;32m     24\u001b[0m \u001b[1;33m\u001b[0m\u001b[0m\n",
      "\u001b[1;31mNameError\u001b[0m: name 'img1' is not defined"
     ]
    }
   ],
   "source": [
    "\n",
    "from plantcv import plantcv as pcv\n",
    "\n",
    "class options:\n",
    "    def __init__(self):\n",
    "        self.image = \"C:/Users/Beth/Downloads/14-24-00.jpg\"\n",
    "        self.debug = \"plot\"\n",
    "        self.writeimg= False \n",
    "        self.result = \"./morphology_tutorial_results2FULL.json\"\n",
    "        self.outdir = \".\"\n",
    "\n",
    "# Get options\n",
    "args = options()\n",
    "\n",
    "# Set debug to the global parameter \n",
    "pcv.params.debug = args.debug\n",
    "\n",
    "# Set global debug behavior to None (default), \"print\" (to file), \n",
    "# or \"plot\" (Jupyter Notebooks or X11)\n",
    "pcv.params.debug = \"plot\"\n",
    "\n",
    "# Make a grid of ROIs \n",
    "rois1, roi_hierarchy1 = pcv.roi.multi(img=img1, coord=(25,120), radius=20, \n",
    "                                      spacing=(70, 70), nrows=3, ncols=6)\n",
    "\n",
    "# Specify a list of coordinates of desired ROIs \n",
    "rois2, roi_hierarchy2 = pcv.roi.multi(img=img1, coord=[(25,120), (165,260), (310, 260)], \n",
    "                                      radius=20)\n"
   ]
  },
  {
   "cell_type": "code",
   "execution_count": null,
   "metadata": {},
   "outputs": [],
   "source": [
    "import numpy as np \n",
    "\n",
    "img_copy = np.copy(img)\n",
    "\n",
    "# The result file should exist if plantcv-workflow.py was run\n",
    "if os.path.exists(args.result):\n",
    "    # Open the result file\n",
    "    results = open(args.result, \"r\")\n",
    "    # The result file would have image metadata in it from plantcv-workflow.py, read it into memory\n",
    "    metadata = results.read()\n",
    "    # Close the file\n",
    "    results.close()\n",
    "    # Delete the file, we will create new ones\n",
    "    os.remove(args.result)\n",
    "\n",
    "for i in range(0, len(rois1)):\n",
    "    roi = rois1[i]\n",
    "    hierarchy = roi_hierarchy1[i]\n",
    "    # Find objects\n",
    "    filtered_contours, filtered_hierarchy, filtered_mask, filtered_area = pcv.roi_objects(\n",
    "        img=img, roi_type=\"partial\", roi_contour=roi, roi_hierarchy=hierarchy, object_contour=obj, \n",
    "        obj_hierarchy=obj_hierarchy)\n",
    "\n",
    "    # Combine objects together in each plant     \n",
    "    plant_contour, plant_mask = pcv.object_composition(img=img, contours=filtered_contours, hierarchy=filtered_hierarchy)        \n",
    "\n",
    "    # Analyze the shape of each plant \n",
    "    analysis_images = pcv.analyze_object(img=img_copy, obj=plant_contour, mask=plant_mask)\n",
    "\n",
    "    # Save the image with shape characteristics \n",
    "    img_copy = analysis_images\n",
    "\n",
    "    # Print out a text file with shape data for each plant in the image \n",
    "    filename = args.result[:-4] + \"_\" + str(i) + \".txt\" \n",
    "    with open(filename, \"w\") as r:\n",
    "        r.write(metadata)\n",
    "    pcv.print_results(filename=filename)\n",
    "    # Clear the measurements stored globally into the Outputs class\n",
    "    pcv.outputs.clear()\n",
    "\n",
    "# Plot out the image with shape analysis on each plant in the image \n",
    "pcv.plot_image(img_copy)"
   ]
  }
 ],
 "metadata": {
  "kernelspec": {
   "display_name": "Python 3",
   "language": "python",
   "name": "python3"
  },
  "language_info": {
   "codemirror_mode": {
    "name": "ipython",
    "version": 3
   },
   "file_extension": ".py",
   "mimetype": "text/x-python",
   "name": "python",
   "nbconvert_exporter": "python",
   "pygments_lexer": "ipython3",
   "version": "3.7.7"
  }
 },
 "nbformat": 4,
 "nbformat_minor": 4
}
