{
 "cells": [
  {
   "cell_type": "code",
   "execution_count": 1,
   "metadata": {},
   "outputs": [],
   "source": [
    "##print(\"MTM version: \", MTM.__version__)\n",
    "import MTM\n",
    "from MTM import matchTemplates, drawBoxesOnRGB\n",
    "import pandas as pd\n",
    "import cv2\n",
    "from skimage import io\n",
    "import matplotlib.pyplot as plt\n",
    "import numpy as np\n",
    "import plantcv as pcv\n",
    "import xlsxwriter as XL\n",
    "import PIL\n",
    "from PIL import Image \n",
    "import imutils"
   ]
  },
  {
   "cell_type": "code",
   "execution_count": 2,
   "metadata": {},
   "outputs": [],
   "source": [
    "img_rgb = cv2.imread('C:/Users/Beth/Desktop/JL Lab/Egregious Pictures/Aww yikes/2019-07-22_0900(2)dash.jpg')\n",
    "img_gray = cv2.cvtColor(img_rgb, cv2.COLOR_BGR2GRAY)\n",
    "template = cv2.imread('C:/Users/Beth/Desktop/JL Lab/Egregious Pictures/Aww yikes/dash.jpg',0)\n",
    "w, h = template.shape[::-1]\n",
    "found = None"
   ]
  },
  {
   "cell_type": "code",
   "execution_count": 3,
   "metadata": {},
   "outputs": [],
   "source": [
    "# 1st format the template into a list of tuple (label, templateImage)\n",
    "# Then call the function matchTemplates (here a single template)\n",
    "Hits = res = cv2.matchTemplate(img_gray,template,cv2.TM_CCOEFF_NORMED)\n",
    "threshold = 0.8\n",
    "loc = np.where( res >= threshold)\n",
    "for pt in zip(*loc[::-1]):\n",
    "    cv2.rectangle(img_rgb, pt, (pt[0] + w, pt[1] + h), (0,0,255), 2)"
   ]
  },
  {
   "cell_type": "code",
   "execution_count": 4,
   "metadata": {},
   "outputs": [],
   "source": [
    "###BROKE\n",
    "#Image.tell(Hits)\n",
    "#pcv.namedWindow('Detected', cv2.WINDOW_NORMAL)\n",
    "#imshow('Detected',img_rgb)\n",
    "##waitKey(0)\n",
    "##destroyAllWindows()"
   ]
  },
  {
   "cell_type": "code",
   "execution_count": 5,
   "metadata": {},
   "outputs": [
    {
     "ename": "ValueError",
     "evalue": "too many values to unpack (expected 3)",
     "output_type": "error",
     "traceback": [
      "\u001b[1;31m---------------------------------------------------------------------------\u001b[0m",
      "\u001b[1;31mValueError\u001b[0m                                Traceback (most recent call last)",
      "\u001b[1;32m<ipython-input-5-27387538425c>\u001b[0m in \u001b[0;36m<module>\u001b[1;34m\u001b[0m\n\u001b[0;32m      5\u001b[0m     \u001b[1;32mif\u001b[0m \u001b[0mresized\u001b[0m\u001b[1;33m.\u001b[0m\u001b[0mshape\u001b[0m\u001b[1;33m[\u001b[0m\u001b[1;36m0\u001b[0m\u001b[1;33m]\u001b[0m \u001b[1;33m<\u001b[0m \u001b[0mh\u001b[0m \u001b[1;32mor\u001b[0m \u001b[0mresized\u001b[0m\u001b[1;33m.\u001b[0m\u001b[0mshape\u001b[0m\u001b[1;33m[\u001b[0m\u001b[1;36m1\u001b[0m\u001b[1;33m]\u001b[0m \u001b[1;33m<\u001b[0m \u001b[0mw\u001b[0m\u001b[1;33m:\u001b[0m\u001b[1;33m\u001b[0m\u001b[1;33m\u001b[0m\u001b[0m\n\u001b[0;32m      6\u001b[0m         \u001b[1;32mbreak\u001b[0m\u001b[1;33m\u001b[0m\u001b[1;33m\u001b[0m\u001b[0m\n\u001b[1;32m----> 7\u001b[1;33m     \u001b[1;33m(\u001b[0m\u001b[0mmaxVal\u001b[0m\u001b[1;33m,\u001b[0m \u001b[0mmaxLoc\u001b[0m\u001b[1;33m,\u001b[0m \u001b[0mr\u001b[0m\u001b[1;33m)\u001b[0m \u001b[1;33m=\u001b[0m \u001b[0mcv2\u001b[0m\u001b[1;33m.\u001b[0m\u001b[0mminMaxLoc\u001b[0m\u001b[1;33m(\u001b[0m\u001b[0mHits\u001b[0m\u001b[1;33m)\u001b[0m\u001b[1;33m\u001b[0m\u001b[1;33m\u001b[0m\u001b[0m\n\u001b[0m\u001b[0;32m      8\u001b[0m \u001b[1;33m\u001b[0m\u001b[0m\n\u001b[0;32m      9\u001b[0m \u001b[0mcoordinates\u001b[0m \u001b[1;33m=\u001b[0m \u001b[1;33m(\u001b[0m\u001b[0m_\u001b[0m\u001b[1;33m,\u001b[0m\u001b[0mmaxLoc\u001b[0m\u001b[1;33m,\u001b[0m \u001b[0mr\u001b[0m\u001b[1;33m)\u001b[0m \u001b[1;33m=\u001b[0m \u001b[0mfound\u001b[0m\u001b[1;33m\u001b[0m\u001b[1;33m\u001b[0m\u001b[0m\n",
      "\u001b[1;31mValueError\u001b[0m: too many values to unpack (expected 3)"
     ]
    }
   ],
   "source": [
    "for scale in np.linspace(0.2, 1.0, 20)[::-1]:\n",
    "    resized = imutils.resize(img_gray, width = int(img_gray.shape[1] * scale))\n",
    "    r = img_gray.shape[1] / float(resized.shape[1])\n",
    "\n",
    "    if resized.shape[0] < h or resized.shape[1] < w:\n",
    "        break\n",
    "    (maxVal, maxLoc, r) = cv2.minMaxLoc(Hits)\n",
    "\n",
    "coordinates = (_,maxLoc, r) = found\n",
    "(startX, startY) = (int(maxLoc[0] * r), int(maxLoc[1] * r))\n",
    "(endX, endY) = (int((maxLoc[0] + tW) * r), int((maxLoc[1] + tH) * r))\n",
    "print(coordinates)"
   ]
  },
  {
   "cell_type": "code",
   "execution_count": 115,
   "metadata": {},
   "outputs": [
    {
     "name": "stdout",
     "output_type": "stream",
     "text": [
      "Found 1937 hits\n"
     ]
    },
    {
     "data": {
      "text/plain": [
       "array([[ 0.        ,  0.        ,  0.        , ...,  0.14360783,\n",
       "         0.15282637,  0.16314618],\n",
       "       [ 0.        ,  0.        ,  0.        , ...,  0.15194766,\n",
       "         0.16236809,  0.17381892],\n",
       "       [ 0.        ,  0.        ,  0.        , ...,  0.14935265,\n",
       "         0.16068731,  0.17282024],\n",
       "       ...,\n",
       "       [ 0.01934324,  0.03317826,  0.04476357, ...,  0.1411105 ,\n",
       "         0.14848854,  0.1523519 ],\n",
       "       [ 0.01819192,  0.03053707,  0.03950504, ...,  0.13526076,\n",
       "         0.14188497,  0.14586733],\n",
       "       [-0.01047211, -0.00140822,  0.0049251 , ...,  0.11119451,\n",
       "         0.11541112,  0.11920526]], dtype=float32)"
      ]
     },
     "execution_count": 115,
     "metadata": {},
     "output_type": "execute_result"
    }
   ],
   "source": [
    "print(\"Found {} hits\".format( len(Hits) ) )\n",
    "Hits"
   ]
  },
  {
   "cell_type": "code",
   "execution_count": 61,
   "metadata": {},
   "outputs": [
    {
     "name": "stdout",
     "output_type": "stream",
     "text": [
      "          0         1         2         3         4         5         6     \\\n",
      "0     0.000000  0.000000  0.000000  0.000000  0.000000  0.000000  0.000000   \n",
      "1     0.000000  0.000000  0.000000  0.000000  0.000000  0.000000  0.000000   \n",
      "2     0.000000  0.000000  0.000000  0.000000  0.000000  0.000000  0.000000   \n",
      "3     0.000000  0.000000  0.000000  0.000000  0.000000  0.000000  0.000000   \n",
      "4     0.000000  0.000000  0.000000  0.000000  0.000000  0.000000  0.000000   \n",
      "...        ...       ...       ...       ...       ...       ...       ...   \n",
      "1932 -0.062894 -0.045410 -0.030773 -0.015647 -0.000710  0.006761  0.006599   \n",
      "1933 -0.018116 -0.001189  0.012224  0.029141  0.049610  0.061187  0.064045   \n",
      "1934  0.019343  0.033178  0.044764  0.059387  0.080348  0.089656  0.090966   \n",
      "1935  0.018192  0.030537  0.039505  0.050660  0.066371  0.071439  0.067962   \n",
      "1936 -0.010472 -0.001408  0.004925  0.010492  0.016438  0.014541  0.008001   \n",
      "\n",
      "          7         8         9     ...      2506      2507      2508  \\\n",
      "0     0.000000  0.000000  0.000000  ...  0.089661  0.093776  0.099788   \n",
      "1     0.000000  0.000000  0.000000  ...  0.095538  0.099879  0.105639   \n",
      "2     0.000000  0.000000  0.000000  ...  0.092932  0.097331  0.102586   \n",
      "3     0.000000  0.000000  0.000000  ...  0.086500  0.090455  0.095003   \n",
      "4     0.000000  0.000000  0.000000  ...  0.080592  0.084507  0.089085   \n",
      "...        ...       ...       ...  ...       ...       ...       ...   \n",
      "1932 -0.003031 -0.020098 -0.037884  ...  0.143216  0.140638  0.139541   \n",
      "1933  0.056917  0.041953  0.025451  ...  0.134503  0.134118  0.135322   \n",
      "1934  0.085004  0.072446  0.057586  ...  0.129667  0.130847  0.133595   \n",
      "1935  0.058504  0.043707  0.029118  ...  0.123688  0.125231  0.127604   \n",
      "1936 -0.005097 -0.022855 -0.038345  ...  0.111403  0.112699  0.113916   \n",
      "\n",
      "          2509      2510      2511      2512      2513      2514      2515  \n",
      "0     0.107547  0.115252  0.121994  0.132226  0.143608  0.152826  0.163146  \n",
      "1     0.113721  0.121825  0.129107  0.139865  0.151948  0.162368  0.173819  \n",
      "2     0.110356  0.118252  0.125626  0.136682  0.149353  0.160687  0.172820  \n",
      "3     0.101781  0.109161  0.116379  0.127142  0.139459  0.150860  0.163001  \n",
      "4     0.094720  0.101726  0.109315  0.119748  0.130650  0.141244  0.153523  \n",
      "...        ...       ...       ...       ...       ...       ...       ...  \n",
      "1932  0.136042  0.132252  0.132985  0.131323  0.131133  0.135790  0.138644  \n",
      "1933  0.132891  0.130381  0.133083  0.134890  0.137622  0.144932  0.149332  \n",
      "1934  0.132368  0.130249  0.133401  0.137135  0.141110  0.148489  0.152352  \n",
      "1935  0.127056  0.124002  0.126537  0.131187  0.135261  0.141885  0.145867  \n",
      "1936  0.113041  0.107821  0.107061  0.109314  0.111195  0.115411  0.119205  \n",
      "\n",
      "[1937 rows x 2516 columns]\n"
     ]
    }
   ],
   "source": [
    "MarkWalberg = pd.DataFrame(Hits)\n",
    "#ListOfRows = MarkWalberg.to_numpy().tolist()\n",
    "\n",
    "PrintBerg = pd.DataFrame(Hits)\n",
    "print(PrintBerg)\n",
    "try:\n",
    "    PrintBerg.to_excel(r'C:/Users/Beth/Desktop/PrintBerg.xlsx', index = False, header = True)\n",
    "except:\n",
    "    print(\"ERROR: Could Not Print\")\n",
    "#Workbook = XL.Workbook('Found Hits')\n",
    "#Worksheet = Workbook.add_worksheet()\n",
    "#Worksheet.write(Hits)\n",
    "#Workbook.close()\n",
    "\n",
    "#print(MarkWalberg)\n",
    "#print(ListOfRows)"
   ]
  },
  {
   "cell_type": "code",
   "execution_count": 39,
   "metadata": {
    "scrolled": true
   },
   "outputs": [
    {
     "ename": "AttributeError",
     "evalue": "'numpy.ndarray' object has no attribute 'iterrows'",
     "output_type": "error",
     "traceback": [
      "\u001b[1;31m---------------------------------------------------------------------------\u001b[0m",
      "\u001b[1;31mAttributeError\u001b[0m                            Traceback (most recent call last)",
      "\u001b[1;32m<ipython-input-39-d788ba8ee7f2>\u001b[0m in \u001b[0;36m<module>\u001b[1;34m\u001b[0m\n\u001b[1;32m----> 1\u001b[1;33m \u001b[0mOverlay\u001b[0m \u001b[1;33m=\u001b[0m \u001b[0mdrawBoxesOnRGB\u001b[0m\u001b[1;33m(\u001b[0m\u001b[0mimg_rgb\u001b[0m\u001b[1;33m,\u001b[0m \u001b[0mHits\u001b[0m\u001b[1;33m,\u001b[0m \u001b[0mboxThickness\u001b[0m\u001b[1;33m=\u001b[0m\u001b[1;36m5\u001b[0m\u001b[1;33m)\u001b[0m\u001b[1;33m\u001b[0m\u001b[1;33m\u001b[0m\u001b[0m\n\u001b[0m\u001b[0;32m      2\u001b[0m \u001b[0mplt\u001b[0m\u001b[1;33m.\u001b[0m\u001b[0mfigure\u001b[0m\u001b[1;33m(\u001b[0m\u001b[0mfigsize\u001b[0m \u001b[1;33m=\u001b[0m \u001b[1;33m(\u001b[0m\u001b[1;36m10\u001b[0m\u001b[1;33m,\u001b[0m\u001b[1;36m10\u001b[0m\u001b[1;33m)\u001b[0m\u001b[1;33m)\u001b[0m\u001b[1;33m\u001b[0m\u001b[1;33m\u001b[0m\u001b[0m\n\u001b[0;32m      3\u001b[0m \u001b[0mplt\u001b[0m\u001b[1;33m.\u001b[0m\u001b[0maxis\u001b[0m\u001b[1;33m(\u001b[0m\u001b[1;34m\"off\"\u001b[0m\u001b[1;33m)\u001b[0m\u001b[1;33m\u001b[0m\u001b[1;33m\u001b[0m\u001b[0m\n\u001b[0;32m      4\u001b[0m \u001b[0mplt\u001b[0m\u001b[1;33m.\u001b[0m\u001b[0mimshow\u001b[0m\u001b[1;33m(\u001b[0m\u001b[0mOverlay\u001b[0m\u001b[1;33m)\u001b[0m\u001b[1;33m\u001b[0m\u001b[1;33m\u001b[0m\u001b[0m\n",
      "\u001b[1;32m~\\AppData\\Roaming\\Python\\Python37\\site-packages\\MTM\\__init__.py\u001b[0m in \u001b[0;36mdrawBoxesOnRGB\u001b[1;34m(image, tableHit, boxThickness, boxColor, showLabel, labelColor, labelScale)\u001b[0m\n\u001b[0;32m    210\u001b[0m     \u001b[1;32melse\u001b[0m\u001b[1;33m:\u001b[0m               \u001b[0moutImage\u001b[0m \u001b[1;33m=\u001b[0m \u001b[0mimage\u001b[0m\u001b[1;33m.\u001b[0m\u001b[0mcopy\u001b[0m\u001b[1;33m(\u001b[0m\u001b[1;33m)\u001b[0m\u001b[1;33m\u001b[0m\u001b[1;33m\u001b[0m\u001b[0m\n\u001b[0;32m    211\u001b[0m \u001b[1;33m\u001b[0m\u001b[0m\n\u001b[1;32m--> 212\u001b[1;33m     \u001b[1;32mfor\u001b[0m \u001b[0mindex\u001b[0m\u001b[1;33m,\u001b[0m \u001b[0mrow\u001b[0m \u001b[1;32min\u001b[0m \u001b[0mtableHit\u001b[0m\u001b[1;33m.\u001b[0m\u001b[0miterrows\u001b[0m\u001b[1;33m(\u001b[0m\u001b[1;33m)\u001b[0m\u001b[1;33m:\u001b[0m\u001b[1;33m\u001b[0m\u001b[1;33m\u001b[0m\u001b[0m\n\u001b[0m\u001b[0;32m    213\u001b[0m         \u001b[0mx\u001b[0m\u001b[1;33m,\u001b[0m\u001b[0my\u001b[0m\u001b[1;33m,\u001b[0m\u001b[0mw\u001b[0m\u001b[1;33m,\u001b[0m\u001b[0mh\u001b[0m \u001b[1;33m=\u001b[0m \u001b[0mrow\u001b[0m\u001b[1;33m[\u001b[0m\u001b[1;34m'BBox'\u001b[0m\u001b[1;33m]\u001b[0m\u001b[1;33m\u001b[0m\u001b[1;33m\u001b[0m\u001b[0m\n\u001b[0;32m    214\u001b[0m         \u001b[0mcv2\u001b[0m\u001b[1;33m.\u001b[0m\u001b[0mrectangle\u001b[0m\u001b[1;33m(\u001b[0m\u001b[0moutImage\u001b[0m\u001b[1;33m,\u001b[0m \u001b[1;33m(\u001b[0m\u001b[0mx\u001b[0m\u001b[1;33m,\u001b[0m \u001b[0my\u001b[0m\u001b[1;33m)\u001b[0m\u001b[1;33m,\u001b[0m \u001b[1;33m(\u001b[0m\u001b[0mx\u001b[0m\u001b[1;33m+\u001b[0m\u001b[0mw\u001b[0m\u001b[1;33m,\u001b[0m \u001b[0my\u001b[0m\u001b[1;33m+\u001b[0m\u001b[0mh\u001b[0m\u001b[1;33m)\u001b[0m\u001b[1;33m,\u001b[0m \u001b[0mcolor\u001b[0m\u001b[1;33m=\u001b[0m\u001b[0mboxColor\u001b[0m\u001b[1;33m,\u001b[0m \u001b[0mthickness\u001b[0m\u001b[1;33m=\u001b[0m\u001b[0mboxThickness\u001b[0m\u001b[1;33m)\u001b[0m\u001b[1;33m\u001b[0m\u001b[1;33m\u001b[0m\u001b[0m\n",
      "\u001b[1;31mAttributeError\u001b[0m: 'numpy.ndarray' object has no attribute 'iterrows'"
     ]
    }
   ],
   "source": [
    "Overlay = drawBoxesOnRGB(img_rgb, Hits, boxThickness=5)\n",
    "plt.figure(figsize = (10,10))\n",
    "plt.axis(\"off\")\n",
    "plt.imshow(Overlay)"
   ]
  }
 ],
 "metadata": {
  "kernelspec": {
   "display_name": "Python 3",
   "language": "python",
   "name": "python3"
  },
  "language_info": {
   "codemirror_mode": {
    "name": "ipython",
    "version": 3
   },
   "file_extension": ".py",
   "mimetype": "text/x-python",
   "name": "python",
   "nbconvert_exporter": "python",
   "pygments_lexer": "ipython3",
   "version": "3.7.7"
  }
 },
 "nbformat": 4,
 "nbformat_minor": 4
}
